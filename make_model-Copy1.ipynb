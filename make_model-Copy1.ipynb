{
 "cells": [
  {
   "cell_type": "code",
   "execution_count": 1,
   "metadata": {},
   "outputs": [
    {
     "name": "stdout",
     "output_type": "stream",
     "text": [
      "stellar_params: {'Ms': 1, 'Rs': 2.0, 'Ts': 5000, 'accrate': 1e-07, 'f': 0.01}\n",
      "disk_params: {'Mdisk': 0.06, 'Mfrac': [0.01, 0.01], 'R0': [5, 5], 'Rout': [100, 50], 'H0': [1, 0.3], 'p': [-1, -1], 'fi': [0.25, 0.25], 'Rdisk': [125, 125]}\n",
      "envelope_params: {'Min': 1e-06, 'Rc': 125, 'rho_amb': 1e-25, 'rho_0': 3e-22, 'theta_min': 25, 'exf': 0.25, 'Rmax': 15000.0, 'd2g': 0.01, 'shock': False}\n",
      "grid_params: {'N': [180, 90, 48], 'min': [0.1, 0.19634954084936207, 0], 'max': [400, 1.5707963267948966, 6.283185307179586], 'spacing': ['log', 'lin', 'lin']}\n",
      "dust_params: {'rho_si': 3.1518, 'amin_chem': 0.06, 'amax_ism': 1.0, 'amin': [0.005, 0.005], 'amax': [1, 1000.0], 'apow': [3.5, 3.5]}\n",
      "RT_params: {'cr_model': 'ssx', 'zetacr': 1.3e-17, 'G0': 1, 'viscous_heating': False, 'fLya': 0.0001}\n",
      "directory exists - will overwrite current model if you write to it!\n",
      "Reading wavelength_micron.inp\n",
      "Writing wavelength_micron.inp\n",
      "Reading wavelength_micron.inp\n",
      "Writing stars.inp\n",
      "Reading amr_grid.inp\n",
      "Reading wavelength_micron.inp\n",
      "Assigned model directory:/Users/aleksandra/Desktop/wedgeford//out/m1_test/\n",
      "ready to do thermal montecarlo!\n",
      "thermal monte carlo done!\n"
     ]
    }
   ],
   "source": [
    "# %load ./scripts/do_RT_thermal.py\n",
    "from pylab import *\n",
    "import radmc3dPy as rpy\n",
    "import numpy as np\n",
    "import os\n",
    "from scipy import interpolate\n",
    "import sys\n",
    "#sys.path.append('../')\n",
    "from models import *\n",
    "\n",
    "\n",
    "\n",
    "p0 = 'default'\n",
    "outdir = '/out/m1_test/'\n",
    "pdef = new_model(p0)\n",
    "m0 = initialize_model(pdef,outdir=outdir)\n",
    "#save_setup_fig(m0)\n",
    "\n",
    "#prep_thermal_transfer(m0,nphot=100000)\n",
    "print('ready to do thermal montecarlo!')\n",
    "\n",
    "#do_thermal_transfer(m0,nt=8)\n",
    "print('thermal monte carlo done!')\n",
    "\n",
    "#save_dustRT(m0)"
   ]
  },
  {
   "cell_type": "code",
   "execution_count": 126,
   "metadata": {},
   "outputs": [
    {
     "data": {
      "image/png": "[encoded data removed]",
      "text/plain": [
       "<Figure size 600x400 with 1 Axes>"
      ]
     },
     "metadata": {
      "needs_background": "light"
     },
     "output_type": "display_data"
    }
   ],
   "source": [
    "f,ax=subplots(1,dpi=100)\n",
    "sca(ax)\n",
    "plot_slice(m1, rho=m1.m.rho_disk(fluid=0),cmap='bone_r',levels=np.linspace(-14.35,-11,10))\n",
    "plot_contour(m1,rho=m1.m.rho_disk(fluid=0),colors='black',thresh=[-13.35,-10],log=True,linestyles='dotted',linewidths=1)\n",
    "model = m1.m\n",
    "for j in np.linspace(np.radians(model.env['theta_min']),pi/2.,8):\n",
    "    streamline = model.stream(th0=j,shock=False)\n",
    "    r = streamline['path'][0]\n",
    "    th = streamline['path'][1]\n",
    "    l = plot(r*np.sin(th),r*np.cos(th),color='white',lw=2,ls='dashed')\n",
    "\n",
    "ylim(1,31)\n",
    "xlim(1,120)\n",
    "\n",
    "rin_line = np.ones(10)*30\n",
    "rout_line = np.ones(10)*60\n",
    "y_line = np.linspace(-10,0,10)\n",
    "ax.patch.set_alpha(0)\n",
    "#plot(rin_line,y_line)\n",
    "#plot(rout_line,y_line)\n",
    "\n",
    "ax.yaxis.set_major_formatter(NullFormatter())\n",
    "ax.xaxis.set_major_formatter(NullFormatter())\n"
   ]
  },
  {
   "cell_type": "code",
   "execution_count": null,
   "metadata": {},
   "outputs": [],
   "source": [
    "sca(ax[1])\n",
    "semilogy(m1.m.r, m1.m.sig_profile(m1.m.r),lw=2,color='black')\n",
    "xlim(1,120)\n",
    "axvline(m1.m.env['Rc'],color='gray',lw=1,ls='dashed')\n",
    "ylim(0.1,1700)"
   ]
  },
  {
   "cell_type": "code",
   "execution_count": 1,
   "metadata": {},
   "outputs": [],
   "source": [
    "# %load ./scripts/do_RT_he.py\n",
    "from pylab import *\n",
    "import radmc3dPy as rpy\n",
    "import numpy as np\n",
    "import os\n",
    "from scipy import interpolate\n",
    "import sys\n",
    "sys.path.append('../')\n",
    "from models import *\n",
    "\n",
    "outdir = './out/m1_test/'\n",
    "m0 = load_model(outdir)\n",
    "\n",
    "prep_he_transfer(m0)\n",
    "print('ready to do high energy radiation montecarlo!')\n",
    "\n",
    "do_he_transfer(m0,nt=8)\n",
    "print('high energy monte carlo done!')\n",
    "\n",
    "save_heRT(m0)"
   ]
  },
  {
   "cell_type": "code",
   "execution_count": 2,
   "metadata": {},
   "outputs": [
    {
     "name": "stdout",
     "output_type": "stream",
     "text": [
      "stellar_params: {'Ms': 1, 'Rs': 2.0, 'Ts': 5000, 'accrate': 1e-07, 'f': 0.01}\n",
      "disk_params: {'Mdisk': 0.06, 'Mfrac': [0.01, 0.01], 'R0': [5, 5], 'Rout': [100, 50], 'H0': [1, 0.3], 'p': [-1, -1], 'fi': [0.25, 0.25], 'Rdisk': [125, 125]}\n",
      "envelope_params: {'Min': 1e-06, 'Rc': 125, 'rho_amb': 1e-25, 'rho_0': 3e-22, 'theta_min': 25, 'exf': 0.25, 'Rmax': 15000.0, 'd2g': 0.01, 'shock': False}\n",
      "grid_params: {'N': [180, 90, 48], 'min': [0.1, 0.19634954084936207, 0], 'max': [400, 1.5707963267948966, 6.283185307179586], 'spacing': ['log', 'lin', 'lin']}\n",
      "dust_params: {'rho_si': 3.1518, 'amin_chem': 0.06, 'amax_ism': 1.0, 'amin': [0.005, 0.005], 'amax': [1, 1000.0], 'apow': [3.5, 3.5]}\n",
      "RT_params: {'cr_model': 'ssx', 'zetacr': 1.3e-17, 'LX': 1e+30, 'G0': 1, 'viscous_heating': False}\n",
      "directory exists - will overwrite current model if you write to it!\n",
      "Loading from model directory:/Users/aleksandra/Desktop/wedgeford/./out/m1_test/\n",
      "Reading amr_grid.inp\n",
      "Reading wavelength_micron.inp\n"
     ]
    }
   ],
   "source": [
    "# %load ./scripts/do_RT_he.py\n",
    "from pylab import *\n",
    "import radmc3dPy as rpy\n",
    "import numpy as np\n",
    "import os\n",
    "from scipy import interpolate\n",
    "#import sys\n",
    "#sys.path.append('../')\n",
    "from models import *\n",
    "\n",
    "outdir = './out/m1_test/'\n",
    "m0 = load_model(outdir)"
   ]
  },
  {
   "cell_type": "code",
   "execution_count": 3,
   "metadata": {},
   "outputs": [],
   "source": [
    "from models.prepchem import *"
   ]
  },
  {
   "cell_type": "code",
   "execution_count": 4,
   "metadata": {},
   "outputs": [
    {
     "name": "stdout",
     "output_type": "stream",
     "text": [
      "Reading dust_density.inp\n",
      "Reading dust_temperature.dat\n"
     ]
    },
    {
     "data": {
      "text/plain": [
       "'model.out'"
      ]
     },
     "execution_count": 4,
     "metadata": {},
     "output_type": "execute_result"
    }
   ],
   "source": [
    "write_out(m0)"
   ]
  },
  {
   "cell_type": "markdown",
   "metadata": {},
   "source": [
    "### Make your new grid for the chemistry"
   ]
  },
  {
   "cell_type": "code",
   "execution_count": 184,
   "metadata": {},
   "outputs": [],
   "source": [
    "from scipy.ndimage import gaussian_filter\n",
    "class chemdisk:\n",
    "    def __init__(self,output,chemdir = '/test1/'):\n",
    "        self.input = output\n",
    "        self.chemdir = self.input.m.parent_dir + 'chemistry/environ' + chemdir\n",
    "        self.rundir = self.input.m.parent_dir + 'chemistry/runs' + chemdir\n",
    "        if os.getcwd() != self.input.m.outdir:\n",
    "            os.chdir(self.input.m.outdir)\n",
    "        if output.rho == {}:\n",
    "            output.rho2D()\n",
    "        if output.T == {}:\n",
    "            output.T2D()\n",
    "        if 'gas' not in output.T.keys():\n",
    "            calc_gas_T(output)\n",
    "        self.data = {}\n",
    "        \n",
    "        try:\n",
    "            os.mkdir(self.chemdir)\n",
    "        except:\n",
    "            print('environ directory exists - will overwrite current model if you write to it!')\n",
    "        \n",
    "        try:\n",
    "            os.mkdir(self.rundir)\n",
    "        except:\n",
    "            print('run directory exists!')\n",
    "    \n",
    "    def regrid_disk(self):\n",
    "        model = self.input.m\n",
    "        rho_g = self.input.rho['gas']\n",
    "        rho_d1 = self.input.rho['dust1'] \n",
    "        rho_d2 = self.input.rho['dust2']\n",
    "        T_d = self.input.T['dust']\n",
    "        T_g = self.input.T['gas'].T\n",
    "        rhod1_2d = make_quadrant(model,rho_d1, fill_value = model.env['rho_amb']*model.env['d2g'],order='F',smooth=False).T\n",
    "        rhod2_2d = make_quadrant(model,rho_d2, fill_value = 0,order='F',smooth=False).T\n",
    "        rhog_2d = make_quadrant(model,rho_g, fill_value = model.env['rho_amb'], order='F',smooth=False).T\n",
    "        r,z = self.make_rz_H()\n",
    "        #temperature gets smoothed before it goes in there as noise from radmc can make interpolation wonky\n",
    "        Td_2d = make_quadrant(model,T_d,fill_value = 0,order='F')\n",
    "        #fill in the bits outside the model quadrant with an ambient temperature from the model\n",
    "        T_amb = model.T(np.sqrt(r**2 + z**2))\n",
    "        Td_2d[Td_2d < 1] = T_amb[Td_2d < 1]\n",
    "        Td_2d = Td_2d.T\n",
    "        \n",
    "        Tg_2d = make_quadrant(model,T_g,fill_value = 0,order='F')\n",
    "        #fill in the bits outside the model quadrant with an ambient temperature from the model\n",
    "        Tg_2d[Tg_2d < 1] = T_amb[Tg_2d < 1]\n",
    "        Tg_2d = Tg_2d.T\n",
    "        return rhog_2d, rhod1_2d, rhod2_2d, Td_2d, Tg_2d \n",
    "    \n",
    "    def fill_data(self):\n",
    "        rhog_2d, rhod1_2d, rhod2_2d, Td_2d, Tg_2d = self.regrid_disk()\n",
    "        self.data['Tg'] = Tg_2d.flatten().reshape(np.shape(self.data['r']))\n",
    "        self.data['rhod1'] = rhod1_2d.flatten().reshape(np.shape(self.data['r']))\n",
    "        self.data['rhod2'] = rhod2_2d.flatten().reshape(np.shape(self.data['r']))\n",
    "        \n",
    "         \n",
    "    def make_rz_H(self): #make a logarithmically spaced cylindrical grid\n",
    "        model = self.input.m\n",
    "        zmin = 1e-10\n",
    "        new_r = np.logspace(np.log10(model.grid['min'][0]), np.log10(model.grid['max'][0]), model.grid['N'][0])\n",
    "        zf_norm = np.append(zmin, np.logspace(-4,0,50)) #faces of the z-cells\n",
    "        zc_norm = 0.5*(zf_norm[1:] + zf_norm[:-1]) #50 points in the Z direction\n",
    "        R,Z = np.meshgrid(new_r,zc_norm)\n",
    "        Z *= R/np.tan(np.radians(model.env['theta_min']))\n",
    "        return R,Z\n",
    "    \n",
    "    def make_quadrant(self,quantity_2d,fill_value=0,order='F',smooth=True): # to be used with the radmc 3d values\n",
    "        model = self.input.m\n",
    "        r_cyl,z_cyl = model.make_rz()\n",
    "        r_new, z_new = self.make_rz_H()\n",
    "        if smooth == True:\n",
    "            quantity_2d = gaussian_filter(quantity_2d, sigma=[1,4])\n",
    "        quantity_2d_interp = griddata((r_cyl[:,:,0].flatten(),z_cyl[:,:,0].flatten()), quantity_2d.ravel(order=order), (r_new,z_new),fill_value=fill_value,method='linear',rescale=True)\n",
    "        return quantity_2d_interp\n",
    "    \n",
    "    def write_out(self,outname='model',ndust=2):\n",
    "        model = self.input.m\n",
    "        if os.getcwd() != model.outdir:\n",
    "            os.chdir(model.outdir)\n",
    "        r,z = self.make_rz_H()\n",
    "        header1 = 'R(AU)    z(AU)   rhogas(g/cm3)  rhodust(g/cm^3)    T(K)   [    4 types of dust]      f_H\\n'\n",
    "        header2 = '-ForChem+Plots--------------------------------------------------------\\n'\n",
    "\n",
    "        rhog_2d, rhod1_2d, rhod2_2d, Td_2d, Tg_2d  = self.regrid_disk()\n",
    "        rhod_2d = rhod1_2d + rhod2_2d\n",
    "        with open(self.chemdir + outname+'.out',\"w\") as outfile:\n",
    "            outfile.write(header1)\n",
    "            outfile.write(header2)\n",
    "            Nr = len(r.flatten())\n",
    "            for n in np.arange(Nr):\n",
    "                outfile.write('%10.7f %10.7f   %5.2e   %5.2e %7.1f %12.7f %12.7f %12.7f %12.7f   %7.2e\\n'%(r.T.flatten()[n],z.T.flatten()[n],rhog_2d.flatten()[n], rhod_2d.flatten()[n] ,Td_2d.flatten()[n],1.0,0.0,0.0,0.0,1.0))\n",
    "        return outname + '.out'\n",
    "\n",
    "    def read_out(self,outname='model.out'): #convenience function for reading the .out file and returning the bits accessible as dictionary\n",
    "        if os.getcwd() != self.chemdir:\n",
    "            os.chdir(self.chemdir)\n",
    "        if os.path.exists(outname) == False:\n",
    "            self.write_out(outname)\n",
    "        data = np.loadtxt(outname,skiprows=2,usecols=(0,1,2,3,4))\n",
    "        r = data[:,0]\n",
    "        z = data[:,1]\n",
    "        shape = (len(np.unique(r)),50)\n",
    "        rhog = data[:,2].reshape(shape)\n",
    "        rhod = data[:,3].reshape(shape)\n",
    "        T = data[:,4].reshape(shape)\n",
    "        self.data = {'r':r.reshape(shape), 'z':z.reshape(shape),'rhog':rhog,'rhod':rhod,'Td':T}\n",
    "        self.fill_data()\n",
    "\n",
    "def plot_out(chem_disk,prop='rhog',outname='model.out',log=True,method=contourf,**pk): #plotting convenience function to inspect .out file contents\n",
    "    if chem_disk.data == {}:\n",
    "        chem_disk.read_out()\n",
    "    data = chem_disk.data\n",
    "    if log == True:\n",
    "        method(data['r'],data['z'],np.log10(data[prop]),**pk)\n",
    "    else:\n",
    "        method(data['r'],data['z'],(data[prop]),**pk)\n",
    "        \n",
    "def plot_prechem(chem_disk,rlim=400): #convenience function to plot the dust radiative transfer real quick\n",
    "    model = chem_disk.input.m\n",
    "    X,Z = model.make_rz()\n",
    "    X = X[:,:,0]\n",
    "    Z = Z[:,:,0]\n",
    "    f,ax = subplots(2,3,constrained_layout=True)\n",
    "    f.set_size_inches(6,6)\n",
    "    \n",
    "    if os.getcwd() != model.outdir:\n",
    "        os.chdir(model.outdir)\n",
    "    if chem_disk.input.rho == {}:\n",
    "        chem_disk.input.rho2D()\n",
    "    if chem_disk.input.T == {}:\n",
    "        chem_disk.input.T2D()\n",
    "        \n",
    "    c = ax[0,0].contourf(X, Z, np.log10(chem_disk.input.rho['gas'].T),levels=np.arange(model.rhomin,model.rhomax,1),extend='both')\n",
    "   \n",
    "    ax[0,0].set_ylabel('z [au]')\n",
    "    ax[0,0].set_title(r'Original $\\rho_g$',fontsize=11)\n",
    "    cb = colorbar(c,ax=ax[:,0],location='bottom',aspect=10,ticks=np.array(c.levels[::2]).astype(int))\n",
    "    cb.set_label(r'$\\rho$ [$\\mathrm{g/cm^{-3}}$]')\n",
    "    \n",
    "    sca(ax[1,0])\n",
    "    plot_out(chem_disk,prop='rhog',cmap='viridis',levels=np.arange(model.rhomin,model.rhomax,1),log=True,extend='both')\n",
    "    ax[1,0].set_ylabel('z [au]')\n",
    "    ax[1,0].set_title(r'Regridded $\\rho_g$ ',fontsize=11)\n",
    "    \n",
    "    \n",
    "    c = ax[0,1].contourf(X, Z, np.log10(chem_disk.input.rho['dust1'].T + chem_disk.input.rho['dust2'].T),levels=np.arange(model.rhomin,model.rhomax,1),extend='both')\n",
    "    ax[0,1].set_title(r'Original $\\rho_d$',fontsize=11)\n",
    "    cb = colorbar(c,ax=ax[:,1],location='bottom',aspect=10,ticks=np.array(c.levels[::2]).astype(int))\n",
    "    cb.set_label(r'$\\rho$ [$\\mathrm{g/cm^{-3}}$]')\n",
    "    \n",
    "    sca(ax[1,1])\n",
    "    plot_out(chem_disk,prop='rhod',cmap='viridis',levels=np.arange(model.rhomin,model.rhomax,1),log=True,extend='both')\n",
    "    ax[1,1].set_title(r'Regridded $\\rho_d$',fontsize=11)\n",
    "    \n",
    "    \n",
    "    \n",
    "    from scipy.ndimage import gaussian_filter\n",
    "    smooth_T = gaussian_filter(chem_disk.input.T['dust'].T, sigma=[4,1])\n",
    "    c2 = ax[0,2].contourf(X, Z, smooth_T,levels=np.linspace(5,125,19),cmap='twilight_shifted',extend='both')\n",
    "\n",
    "\n",
    "    ax[0,2].set_title(r'Original $T_d$',fontsize=11)\n",
    "    cb2 = colorbar(c2,ax=ax[:,2],location='bottom',ticks=np.array(c2.levels[::3]).astype(int),aspect=10)\n",
    "    cb2.set_label(r'$T \\ \\mathrm{[K]}$')\n",
    "    \n",
    "    sca(ax[1,2])\n",
    "    plot_out(chem_disk,prop='Td',cmap='twilight_shifted',levels=np.linspace(5,125,19),log=False,extend='both')\n",
    "    \n",
    "    ax[1,0].set_xlabel('r [au]')\n",
    "    ax[1,1].set_xlabel('r [au]')\n",
    "    ax[1,2].set_xlabel('r [au]')\n",
    "    \n",
    "    ax[1,2].set_title(r'Regridded $T_d$',fontsize=11)\n",
    "   \n",
    "    \n",
    "    for a in ax[0,:]:\n",
    "        a.set_xlim(0,rlim)\n",
    "        a.set_ylim(0,rlim)\n",
    "        a.xaxis.set_major_locator(MultipleLocator(int(rlim/5)))\n",
    "        a.yaxis.set_major_locator(MultipleLocator(int(rlim/5)))\n",
    "    \n",
    "    for a in ax[1,:]:\n",
    "        a.set_xlim(0,rlim)\n",
    "        a.set_ylim(0,rlim)\n",
    "        a.xaxis.set_major_locator(MultipleLocator(int(rlim/5)))\n",
    "        a.yaxis.set_major_locator(MultipleLocator(int(rlim/5)))\n",
    "    f.savefig(chem_disk.chemdir+'regrid.pdf')\n",
    "        "
   ]
  },
  {
   "cell_type": "code",
   "execution_count": 267,
   "metadata": {},
   "outputs": [],
   "source": [
    "def calc_zeta(self,cr_model=''):\n",
    "    if self.data == {}:\n",
    "        self.read_out()\n",
    "    if cr_model == '':\n",
    "        cr_model = self.input.m.rad['cr_model']\n",
    "    def zetaeval(ncol,model=cr_model):\n",
    "        labels = ['m02','w98','ssm','ssx','ttm','ttx']\n",
    "        #Rates from Cleeves et al. 2014\n",
    "        #zeta_powerlaw alpha zeta_exponential Sigma\n",
    "        allrts = np.array([[6.8e-16,3.7e-18,0.423,210.0],\n",
    "            [2.0e-17,9.4e-19,0.021,260.0],\n",
    "            [1.1e-18,3.0e-19,-0.00,260.0],\n",
    "            [1.6e-19,7.5e-20,-0.01,250.0],\n",
    "            [7.0e-21,4e-21,-0.01,290.0],\n",
    "            [1.1e-22,3e-23,-0.02,490.0]])\n",
    "\n",
    "        modin = labels.index(model)\n",
    "        zp = allrts[modin,0]\n",
    "        ze = allrts[modin,1]\n",
    "        al = allrts[modin,2]\n",
    "        co = allrts[modin,3]\n",
    "        mumult = 2.36\n",
    "        piv = 1e20\n",
    "        F = zp*ze*mumult/(ze*mumult*(ncol/piv)**al+zp*(np.exp(ncol*2.0*mh/co)-1)) #C13 eq5\n",
    "        return F\n",
    "    \n",
    "    Ncol_external = 1e10 #column before disk surface\n",
    "    \n",
    "    rhog = self.data['rhog']\n",
    "    axis = 1\n",
    "    rpts = np.unique(self.data['r'])\n",
    "    zmin = 1e-10\n",
    "    zc = self.data['z']\n",
    "    dzz = 0.18741465494412662 #delta z/z for 50 bins \n",
    "    dz = zc*dzz*AU #in cm\n",
    "    rhog_los = np.append(np.flip(rhog,axis=axis),rhog,axis=axis)\n",
    "    dz_los = np.append(np.flip(dz,axis=axis),dz,axis=axis)\n",
    "    Ncol_zpos = np.cumsum(rhog_los*dz_los,axis=axis)/(mu*mh) + Ncol_external\n",
    "    Ncol_zneg = np.cumsum(np.flip(rhog_los*dz_los,axis=axis),axis=axis)/(mu*mh) + Ncol_external\n",
    "    zeta = 0.5*zetaeval(Ncol_zpos,model=cr_model) + 0.5*zetaeval(Ncol_zneg,model=cr_model)\n",
    "    self.data['zeta'] = zeta[:,50:]\n",
    "    self.data['zcm'] = np.flip(np.cumsum(dz_los[:,:50],axis=axis),axis=axis)\n",
    "    self.data['Nrz'] = np.ones_like(data['z'])*Ncol_external\n"
   ]
  },
  {
   "cell_type": "code",
   "execution_count": 304,
   "metadata": {},
   "outputs": [],
   "source": [
    "def calc_dustfrac(self):\n",
    "    model = self.input.m\n",
    "    a_chem = 0.1 #microns\n",
    "    sa_chem = a_chem**2 #factor of 4pi cancels out in ratio\n",
    "    df0 = (self.data['rhod']/model.dust['rho_si'])*sa_chem #total area/vol\n",
    "    #amax_ism = model.dust['amax_ism']\n",
    "    #amin_chem = model.dust['amin_chem']\n",
    "    ndust = len(self.dust['amin'])\n",
    "    df = np.zeros_like(df0)\n",
    "    for d in ndust:\n",
    "        key = 'rhod'+str(d+1)\n",
    "        p = model.dust['apow'][d]\n",
    "        amin = model.dust['amin'][d]\n",
    "        amax = model.dust['amax'][d]\n",
    "        sa_tot = 3*((4.-p)/(3.-p))*(amax**(3-p) - amin**(3-p))/(amax**(4-p)-amin**(3-p))\n",
    "        df += (self.data[key]/model.dust['rho_si'])*sa_tot\n",
    "    self.data['dustfrac'] = df/df0"
   ]
  },
  {
   "cell_type": "code",
   "execution_count": null,
   "metadata": {},
   "outputs": [],
   "source": [
    "def regrid_radiation(self):\n",
    "    # write function to interpolate radiation field onto the chemical grid\n",
    "    pass\n",
    "\n",
    "def write_uv(self):\n",
    "    # can take the UV field attenuation at sampled wavelengths and apply to the original\n",
    "    # flux + ISRF\n",
    "    # can shove Lya line in there to match continuum (at every point in the grid)\n",
    "    # should get radmcpy to re-compute the new spectrum at the wavelengths of the o.g. code\n",
    "    # bin that spectrum at wavelengths sampled by the mcmono computation, with flux at mcmono as f0\n",
    "    # then compute attenuation factor for each slice of mcmono -- regrid onto chemical grid\n",
    "    # then write radiation in format for chemical code, running through the original spectrum for each zone in grid\n",
    "    pass\n",
    "\n",
    "def write_xray(self):\n",
    "    # can take the Xray field attenuation at sampled wavelengths and apply to the original spectrum \n",
    "    # at every point in the grid\n",
    "    pass\n",
    "\n",
    "\n",
    "    \n"
   ]
  },
  {
   "cell_type": "code",
   "execution_count": 338,
   "metadata": {},
   "outputs": [
    {
     "name": "stdout",
     "output_type": "stream",
     "text": [
      "Reading wavelength_micron.inp\n",
      "[0.093      0.121567   0.14242525 0.1632835  0.18414175 0.205     ]\n"
     ]
    },
    {
     "data": {
      "text/plain": [
       "(4.988169145655148e-19,\n",
       " <scipy.interpolate.interpolate.interp1d at 0x7fb3c81debd0>)"
      ]
     },
     "execution_count": 338,
     "metadata": {},
     "output_type": "execute_result"
    }
   ],
   "source": [
    "def Lya_line(model, fLya=1e-2):\n",
    "    lam_nm, flya = np.loadtxt(model.models_dir + 'templates/spec_lya.txt',skiprows=4, unpack=True)\n",
    "    lam_mu = lam_nm*1e-3 #microns\n",
    "    nu = c/(lam_mu*1e-4)\n",
    "    fnu = flya*(h*nu)* (c*1e7) / (nu**2)\n",
    "    lam_lya = 1.215670000e-1\n",
    "    #if os.getcwd() != model.outdir:\n",
    "        #os.chdir(model.outdir)\n",
    "    os.chdir(model.models_dir + 'templates/')\n",
    "    grid = rpy.reggrid.radmc3dGrid()\n",
    "    grid.readWavelengthGrid()\n",
    "    rad_data = rpy.radsources.radmc3dRadSources(ppar=model.radmcpar,grid=grid)\n",
    "    rad_data.nstar = 1\n",
    "    rad_data.getStarSpectrum(grid=grid,ppar=model.radmcpar)\n",
    "    fnu_s = rad_data.fnustar.squeeze()\n",
    "    rad_data.getSpotSpectrum(grid=grid,ppar=model.radmcpar)\n",
    "    fnu_uv = rad_data.fnuspot.squeeze()\n",
    "    lam_s = rad_data.grid.wav\n",
    "    nu_s = c/(lam_s*1e-4)\n",
    "    \n",
    "    Fstar = np.trapz(fnu_s,x=nu_s) #total stellar flux\n",
    "    Ftot = np.trapz(fnu,x=nu) #total lyman alpha flux\n",
    "    norm = (Fstar*fLya)/(Ftot) #scaling so that the total in the lya line is fLya of the stellar flux\n",
    "    fpeak_lya = np.amax(norm*fnu)\n",
    "    fnu_lya = interpolate.interp1d(x= nu, y = fnu*norm, fill_value=np.amin(fnu*norm),bounds_error=False)\n",
    "    \n",
    "    return fpeak_lya, fnu_lya\n",
    "\n",
    "\n",
    "\n",
    "Lya_line(m0.m)\n"
   ]
  },
  {
   "cell_type": "code",
   "execution_count": 303,
   "metadata": {},
   "outputs": [
    {
     "name": "stdout",
     "output_type": "stream",
     "text": [
      "Reading wavelength_micron.inp\n",
      "Writing chem_wavelength_micron.inp\n",
      "Reading chem_wavelength_micron.inp\n"
     ]
    },
    {
     "data": {
      "image/png": "[encoded data removed]",
      "text/plain": [
       "<Figure size 432x288 with 1 Axes>"
      ]
     },
     "metadata": {
      "needs_background": "light"
     },
     "output_type": "display_data"
    }
   ],
   "source": [
    "#uv_min = 930#angstrom # every 10 angstroms\n",
    "#uv_max = 2000 #angstrom\n",
    "\n",
    "#xray_min = 1 #keV\n",
    "#xray_max = 20 #every 1 keV\n",
    "\n",
    "#write_wavelength over prescribed wavebands \n",
    "#insert x-ray radiation\n",
    "#write new stars file\n",
    "#take that stars file as the new value, bin by the values in mcmono\n",
    "\n",
    "def bin_input_spectrum(self,field='uv'):\n",
    "    model = self.input.m\n",
    "    if field == 'uv':\n",
    "        lam_chem = np.arange(930,2010,10) #in angstroms\n",
    "        lam_mu = lam_chem*1e-4 #in microns\n",
    "        lam_rt = np.linspace(uv_min,uv_max,5)\n",
    "        dnu_rt = c/(np.gradient(lam_rt)*1e-4)\n",
    "    if field == 'xray':\n",
    "        lam_chem = np.arange(1,21,1) #in keV\n",
    "        lam_mu = (1e4*h*c)/(lam_chem*keV) #in microns\n",
    "        lam_rt = np.logspace(np.log10(xray_min),np.log10(xray_max),5)\n",
    "        dnu_rt = c/(np.gradient(dlam_rt)*1e-4)\n",
    "    write_wavelength(model,lam=lam_mu,fname='chem_wavelength_micron.inp')\n",
    "    os.chdir(model.outdir)\n",
    "    grid = rpy.reggrid.radmc3dGrid()\n",
    "    grid.readWavelengthGrid(fname='chem_wavelength_micron.inp')\n",
    "    rad_data = rpy.radsources.radmc3dRadSources(ppar=model.radmcpar,grid=grid)\n",
    "    rad_data.nstar = 1\n",
    "    rad_data.incl_accretion = True\n",
    "    rad_data.getStarSpectrum(grid=grid,ppar=model.radmcpar)\n",
    "    rad_data.getSpotSpectrum(grid=grid,ppar=model.radmcpar)\n",
    "    \n",
    "    #lam_ = np.squeeze(rad_data.grid.wav)\n",
    "    fnu_ = np.squeeze(rad_data.fnustar) + np.squeeze(rad_data.fnuspot)\n",
    "\n",
    "    if field == 'xray':\n",
    "        xmodel = acc_onto_star(model,lam_mu)\n",
    "        fnu_ += xmodel['shock']['F'] + xmodel['cool']['F'] \n",
    "    \n",
    "    spec0 = interpolate.interp1d(x=lam_mu, y=fnu_)\n",
    "    return spec0\n",
    "    \n",
    "    \n",
    "\n",
    "def regrid_radiation(self,field='uv'):\n",
    "    model = self.input.m\n",
    "    if field == 'uv':\n",
    "        lam_chem = np.arange(930,2010,10) #in angstroms\n",
    "        lam_mu = lam_chem*1e-4 #in microns\n",
    "        lam_rt = np.linspace(uv_min,uv_max,5)\n",
    "        dnu_rt = c/(np.gradient(lam_rt)*1e-4)\n",
    "    if field == 'xray':\n",
    "        lam_chem = np.arange(1,21,1) #in keV\n",
    "        lam_mu = (1e4*h*c)/(lam_chem*keV) #in microns\n",
    "        lam_rt = np.logspace(np.log10(xray_min),np.log10(xray_max),5)\n",
    "        dnu_rt = c/(np.gradient(dlam_rt)*1e-4)\n",
    "    spec0 = bin_input_specturm(self,field=field)\n",
    "    #put in initial lyman alpha line\n",
    "    fpeak = Lya_line(model,fLya=model.rad['fLya'])\n",
    "    lya_lam = 0.1210 #rounded lya wavelength\n",
    "    fnu_[np.argmin(np.abs(lam_-lya_lam))] += fpeak\n",
    "    \n",
    "    \n",
    "    \n",
    "    \n",
    "    "
   ]
  },
  {
   "cell_type": "code",
   "execution_count": 282,
   "metadata": {},
   "outputs": [],
   "source": [
    "def write_1(self,index):\n",
    "    header = ['R','rho','Tgas','Tdust','zAU','zcm','Nrz','ZetaCR','DustFrac']\n",
    "    keys = ['r', 'rhog','Tg','Td','z','zcm','Nrz','zeta','dustfrac']\n",
    "    vals = [self.data[key][index,:] for key in keys]\n",
    "    towrite = dict(zip(keys,vals))\n",
    "    nz = len(towrite['r'])\n",
    "    name = '.e1.{:.4f}'.format(towrite['r'][0])\n",
    "    with open(self.chemdir + '1environ.inp' + name, 'w') as f:\n",
    "        f.write('{:12} {:12} {:12} {:12} {:12} {:12} {:12} {:12} {:12}\\n'.format(*header))\n",
    "        f.write('1\\n')\n",
    "        f.write('{:}\\n'.format(nz))\n",
    "        for j in np.arange(nz):\n",
    "            row = [towrite[key][-1-j] for key in keys]\n",
    "            f.write('{:11.5E} {:11.5E} {:11.5E} {:11.5E} {:11.5E} {:11.5E} {:11.5E} {:11.5E} {:11.5E}\\n'.format(*row))\n",
    "\n",
    "def write_environ(self):\n",
    "    nr = len(np.unique(self.data['r']))\n",
    "    for i in np.arange(nr):\n",
    "        write_1(self,i)\n",
    "\n",
    "    "
   ]
  },
  {
   "cell_type": "code",
   "execution_count": 218,
   "metadata": {},
   "outputs": [],
   "source": [
    "def contents_to_file(self,file_contents,fileprefix):\n",
    "    filepath = self.input.m.parent_dir+'chemistry/' + fileprefix + '.inp'\n",
    "    with open(filepath,'w') as f:\n",
    "        for line in file_contents:\n",
    "            f.write(line)"
   ]
  },
  {
   "cell_type": "code",
   "execution_count": 250,
   "metadata": {},
   "outputs": [],
   "source": [
    "def write_0(self,reactions='herb0308gr',species='herb0308gr',name='.inp', abund0 = 'None'):\n",
    "    mdir = self.m.outdir.split('/')[-1]\n",
    "    with open(self.chemdir + '0io' + name, 'w') as f:\n",
    "        f.write('# input & output files:\\n')\n",
    "        f.write('rspecies_{}.dat \\t # file with species\\n'.format(species))\n",
    "        f.write('rreacs_{}.dat \\t # file with reactions\\n'.format(reactions))\n",
    "        f.write('uv_photons_{}.dat \\t # file with uvfield\\n'.format(mdir))\n",
    "        f.write('xray_photons_{}.dat \\t # file with xrfield\\n'.format(mdir))\n",
    "        f.write('None \\t # file with ISRF \\n') #already in outputs from uv/xray field\n",
    "        f.write('None \\t # Radionuclide Ion Rate\\n' ) #build this in later?\n",
    "        f.write('{} \\t # initial 2D abundance file \\n') #default is None\n",
    "\n",
    "def set_2(self,**tkwargs):\n",
    "    template_path = self.input.m.parent_dir+'chemistry/templates/'\n",
    "    template_file = template_path + '2times.inp'\n",
    "    file_contents = []\n",
    "    with open(template_file, 'r') as f:\n",
    "        for line in f:\n",
    "            if line.startswith('#'):\n",
    "                file_contents.append(line)\n",
    "            else:\n",
    "                val = line.split('#')[0].strip()\n",
    "                comment = line.split('#')[-1].strip()\n",
    "                if comment.startswith('last') and 'last' in tkwargs.keys():\n",
    "                    val = '{:9.3E}'.format(tkwargs['last']).replace('E','D')\n",
    "                if comment.startswith('first') and 'first' in tkwargs.keys():\n",
    "                    val = '{:9.3E}'.format(tkwargs['first']).replace('E','D')\n",
    "                if comment.startswith('total') and 'total' in tkwargs.keys():\n",
    "                    val = str(tkwargs['total'])\n",
    "                new_line = val + '\\t #' + comment\n",
    "                file_contents.append(new_line)\n",
    "    return file_contents\n",
    "        \n",
    "def set_3(self,name ='', **new_values):\n",
    "    template_path = self.input.m.parent_dir+'chemistry/templates/'\n",
    "    template_file = template_path + '3abunds' + name + '.inp'\n",
    "    file_contents = []\n",
    "    # updates values from a template file \n",
    "    # note: only for the species that appear in the template file, \n",
    "    # including those that have been commented out\n",
    "    with open(template_file, 'r') as f:\n",
    "        for line in f:\n",
    "            if line.startswith('#') == True:\n",
    "                old_species  = line.strip('#').split(' ')[0].strip()\n",
    "                if old_species in new_values.keys():\n",
    "                    new_val = '{:9.3E}'.format(new_values[old_species]).replace('E','D')\n",
    "                    new_line = '{:<11} = {}\\n'.format(old_species,new_val)\n",
    "                else:\n",
    "                    pass\n",
    "            else: #this is a line that sets new values\n",
    "                old_species = line.split(' ')[0].strip()\n",
    "                if old_species in new_values.keys(): #if resetting, update the value\n",
    "                    new_val = '{:9.3E}'.format(new_values[old_species]).replace('E','D')\n",
    "                    new_line = '{:<11} {}\\n'.format(old_species,new_val)\n",
    "                else:\n",
    "                    new_line = line\n",
    "                file_contents.append(new_line)\n",
    "    return file_contents\n",
    "\n",
    "def set_4(self, **tolkwargs):\n",
    "    template_path = self.input.m.parent_dir+'chemistry/templates/'\n",
    "    template_file = template_path + '4toleran.inp'\n",
    "    file_contents = []\n",
    "    with open(template_file, 'r') as f:\n",
    "        for line in f:\n",
    "            if line.startswith('#'):\n",
    "                file_contents.append(line)\n",
    "            else:\n",
    "                val = line.split('#')[0].strip()\n",
    "                comment = line.split('#')[-1].strip()\n",
    "                if comment.startswith('rel') and 'rel' in tolkwargs.keys():\n",
    "                    val = '{:9.3E}'.format(tolkwargs['rel']).replace('E','D')\n",
    "                if comment.startswith('abs') and 'abs' in tolkwargs.keys():\n",
    "                    val = '{:9.3E}'.format(tolkwargs['abs']).replace('E','D')\n",
    "                new_line = val + '\\t #' + comment\n",
    "                file_contents.append(new_line)\n",
    "    return file_contents\n",
    "\n",
    "def set_5(self,**flags):\n",
    "    template_path = self.input.m.parent_dir+'chemistry/templates/'\n",
    "    template_file = template_path + '5flags.inp'\n",
    "    file_contents = []\n",
    "    with open(template_file, 'r') as f:\n",
    "        for line in f:\n",
    "            if line.startswith('#') == True:\n",
    "                file_contents.append(line)\n",
    "            else: #this is a line that sets parameters\n",
    "                param, val = line.split('=')\n",
    "                param = param.strip()\n",
    "                if param in flags.keys(): #if resetting, update the value\n",
    "                    new_line = '{:<15} = {}\\n'.format(param,flags[param])\n",
    "                else:\n",
    "                    new_line = line\n",
    "                file_contents.append(new_line)\n",
    "    return file_contents\n",
    "\n",
    "def set_6(self,name=''):\n",
    "    template_path = self.input.m.parent_dir+'chemistry/templates/'\n",
    "    template_file = template_path + '6grainbe' + name + '.inp'\n",
    "    file_contents = []\n",
    "     with open(template_file, 'r') as f:\n",
    "        for line in f:\n",
    "            file_contents.append(line)"
   ]
  },
  {
   "cell_type": "code",
   "execution_count": 187,
   "metadata": {},
   "outputs": [
    {
     "name": "stdout",
     "output_type": "stream",
     "text": [
      "/Users/aleksandra/Desktop/wedgeford/./out/m1_test/\n"
     ]
    }
   ],
   "source": [
    "print(c0.input.m.outdir)"
   ]
  },
  {
   "cell_type": "code",
   "execution_count": 185,
   "metadata": {},
   "outputs": [
    {
     "name": "stdout",
     "output_type": "stream",
     "text": [
      "directory exists - will overwrite current model if you write to it!\n"
     ]
    },
    {
     "data": {
      "text/plain": [
       "'model.out'"
      ]
     },
     "execution_count": 185,
     "metadata": {},
     "output_type": "execute_result"
    }
   ],
   "source": [
    "c0 = chemdisk(m0)\n",
    "c0.write_out()"
   ]
  },
  {
   "cell_type": "code",
   "execution_count": 168,
   "metadata": {},
   "outputs": [],
   "source": [
    "c0.read_out()"
   ]
  },
  {
   "cell_type": "code",
   "execution_count": 150,
   "metadata": {},
   "outputs": [],
   "source": [
    "calc_zeta(c0)"
   ]
  },
  {
   "cell_type": "code",
   "execution_count": 169,
   "metadata": {},
   "outputs": [],
   "source": [
    "calc_dustfrac(c0)"
   ]
  },
  {
   "cell_type": "code",
   "execution_count": 172,
   "metadata": {},
   "outputs": [
    {
     "data": {
      "text/plain": [
       "(0.0, 400.0)"
      ]
     },
     "execution_count": 172,
     "metadata": {},
     "output_type": "execute_result"
    },
    {
     "data": {
      "image/png": "[encoded data removed]",
      "text/plain": [
       "<Figure size 432x288 with 2 Axes>"
      ]
     },
     "metadata": {
      "needs_background": "light"
     },
     "output_type": "display_data"
    }
   ],
   "source": [
    "contourf(c0.data['r'],c0.data['z'],c0.data['dustfrac'],extend='both',levels=np.linspace(0.05,3,100))\n",
    "colorbar()\n",
    "ylim(0,400)"
   ]
  },
  {
   "cell_type": "code",
   "execution_count": 45,
   "metadata": {},
   "outputs": [
    {
     "data": {
      "image/png": "[encoded data removed]",
      "text/plain": [
       "<Figure size 432x432 with 9 Axes>"
      ]
     },
     "metadata": {
      "needs_background": "light"
     },
     "output_type": "display_data"
    }
   ],
   "source": [
    "plot_prechem(c0)"
   ]
  },
  {
   "cell_type": "code",
   "execution_count": 10,
   "metadata": {},
   "outputs": [],
   "source": [
    "if not os.path.exists(outdir):\n",
    "\t\tos.makedirs(outdir)\n",
    "zetacr = 1.3e-17\n",
    "\tfor n in range(len(r)): #write a new file for each radius?\n",
    "\t\t#outfile = open(outdir+'1environ.inp.e1.'+np.round(r[n],decimals=4))\n",
    "\t\t#outfile.write('  R             rho           Tgas          Tdust        zAU           zcm           Nrz           ZetaCR        DustFrac\\n')\n",
    "\t\t#outfile.write('1\\n')\n",
    "\t\t#outfile.write(str(nz)+'\\n')\n",
    "\t\tif n !=0 and r[n] == r[n-1]:\n",
    "\t\t\tnsig_unset = -3.0 *rhog[n] * dust2gas/rho_si * (amax_ism**-0.5 - amin_chem**-0.5)/ \\\n",
    "\t\t\t(amax_ism**-0.5 - amin_chem**-0.5)\n",
    "\t\t\tnsig_tot = 0.0\n",
    "\t\t\tfor d in range(ndust):\n",
    "\t\t\t\tnsig = -3.0 *rhod[d,n]/rho_si * (amax[d]**-0.5 - amin[d]**-0.5)/ \\\n",
    "\t\t\t\t(amax[d]**-0.5 - amin[d]**-0.5)\n",
    "\t\t\t\tnsig_tot = nsig_tot + nsig\n",
    "\t\t\tdustfrac = nsig_tot/nsig_unset\n",
    "\t\t\tzcm = zcm + np.abs(z[n]-z[n-1])\n",
    "\t\telse:\n",
    "\t\t\tzcm = 1e-10\n",
    "\t\t\tprint(\"new radius:\",r[n],z[n])\n",
    "            \n",
    "    #outfile.write(' %6.2E   %6.2E   %6.2E   %6.2E   %6.2E   %6.2E   %6.2E   %6.2E   %6.2E\\n'%(r[n],rhod[n],Td[n],Td[n],z[n],zcm,1e10,zetacr,dustfrac))"
   ]
  },
  {
   "cell_type": "code",
   "execution_count": null,
   "metadata": {},
   "outputs": [],
   "source": [
    "isrf_model = 'isrf_'+isrf_vals[i]+'_half_'+env_orig[e]+'.dat'\n",
    "isrf_model = 'None'\n",
    "ioname = '0io.'+str(int(float(isrf_vals[i])))+'G0.x'+str(int(float(xr_vals[x])))+'.inp'\n",
    "#print(diskchem_dir,env_orig[e],uv_model[e],short_env_orig[e])\n",
    "Tgas_Comp(diskchem_dir,env_orig[e],uv_model[e],short_env_orig[e])\n",
    "Generate_Environment(diskchem_dir,env_orig[e])\n",
    "Create_0io(diskchem_dir,env_orig[e],uv_model[e],xr_model,isrf_model,slr_model[e],srt_time[e],rreac,rspec,ioname)"
   ]
  },
  {
   "cell_type": "code",
   "execution_count": null,
   "metadata": {},
   "outputs": [],
   "source": []
  }
 ],
 "metadata": {
  "kernelspec": {
   "display_name": "Python 3",
   "language": "python",
   "name": "python3"
  },
  "language_info": {
   "codemirror_mode": {
    "name": "ipython",
    "version": 3
   },
   "file_extension": ".py",
   "mimetype": "text/x-python",
   "name": "python",
   "nbconvert_exporter": "python",
   "pygments_lexer": "ipython3",
   "version": "3.8.3"
  }
 },
 "nbformat": 4,
 "nbformat_minor": 4
}
